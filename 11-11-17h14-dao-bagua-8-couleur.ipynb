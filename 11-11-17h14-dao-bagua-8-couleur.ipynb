{
 "cells": [
  {
   "cell_type": "code",
   "execution_count": 3,
   "metadata": {},
   "outputs": [],
   "source": [
    "def f(x):\n",
    "    if x<0:\n",
    "        return sqrt(-x^2-2*x)\n",
    "    else:\n",
    "        return -sqrt(-x^2+2*x)\n",
    "a=plot(f,(x,-2,2),color='grey',fill=sqrt(4-x^2),\n",
    "fillcolor=\"black\")\n",
    "xy=circle((0,0),2,color=\"white\")\n",
    "b=plot(f,(x,-2,2),color=\"white\",fill=-sqrt(4-x^2),\n",
    "fillcolor=\"white\");r=2/sqrt(n(pi))\n",
    "cp=line([(-1,-1),(-1,1),(1,1)])\n",
    "cq=line([(1,1),(1,-1),(-1,-1)])\n",
    "c0=circle((0,0),1,color=\"red\",alpha=0.5)\n",
    "c1=circle((-1,0),1,color=\"white\",alpha=0.5)\n",
    "c2=circle((1,0),1,color=\"white\",alpha=0.5)\n",
    "c3=circle((0,-1),1,color=\"white\",alpha=0.5)\n",
    "c4=circle((0,1),1,color=\"white\",alpha=0.5)"
   ]
  },
  {
   "cell_type": "code",
   "execution_count": 9,
   "metadata": {},
   "outputs": [
    {
     "data": {
      "image/png": "[encoded data removed]",
      "text/plain": [
       "Graphics object consisting of 15 graphics primitives"
      ]
     },
     "metadata": {},
     "output_type": "display_data"
    }
   ],
   "source": [
    "np=polygon(((0,0),(0,8),(5.7,5.7)),color=\"cyan\")\n",
    "gr=polygon(((0,0),(0,8),(-5.7,5.7)),color=\"green\")\n",
    "en=polygon(((0,0),(8,0),(5.7,5.7)),color=\"violet\")\n",
    "os=polygon(((0,0),(-8,0),(-5.7,-5.7)),color=\"red\")\n",
    "sp=polygon(((0,0),(0,-8),(5.7,-5.7)),color=\"green\")\n",
    "ka=polygon(((0,0),(8,0),(5.7,-5.7)),color=\"orange\")\n",
    "ja=polygon(((0,0),(-8,0),(-5.7,5.7)),color=\"yellow\")\n",
    "bl=polygon(((0,0),(0,-8),(-5.7,-5.7)),color=\"blue\")\n",
    "Lo=[[8*(cos(pi*i/4)),8*(sin(pi*i/4))] for i in range(8)]\n",
    "p=polygon2d(Lo, rgbcolor=(1,1,1),fill=False)\n",
    "show(p+np+en+os+sp+sp+ka+gr+ja+bl+xy+a+b,\n",
    "axes=False,fontsize=6,gridlines=False,figsize=5)"
   ]
  },
  {
   "cell_type": "code",
   "execution_count": null,
   "metadata": {},
   "outputs": [],
   "source": []
  },
  {
   "cell_type": "code",
   "execution_count": null,
   "metadata": {},
   "outputs": [],
   "source": []
  }
 ],
 "metadata": {
  "kernelspec": {
   "display_name": "SageMath 9.0.beta5",
   "language": "sage",
   "name": "sagemath"
  },
  "language_info": {
   "codemirror_mode": {
    "name": "ipython",
    "version": 3
   },
   "file_extension": ".py",
   "mimetype": "text/x-python",
   "name": "python",
   "nbconvert_exporter": "python",
   "pygments_lexer": "ipython3",
   "version": "3.7.3"
  }
 },
 "nbformat": 4,
 "nbformat_minor": 2
}
